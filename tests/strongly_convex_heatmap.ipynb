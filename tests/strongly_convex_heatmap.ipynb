{
 "cells": [
  {
   "metadata": {},
   "cell_type": "code",
   "outputs": [],
   "execution_count": null,
   "source": [
    "# Imports\n",
    "import sys\n",
    "sys.path.append(\"../\")\n",
    "from src import get_worst_instance\n",
    "import numpy as np\n",
    "import matplotlib.pyplot as plt\n",
    "from tqdm.notebook import tqdm\n",
    "import pickle\n",
    "\n",
    "# Constants\n",
    "L = 1\n",
    "mus = np.linspace(0.1, 0.8, 50)\n",
    "GAMMAS = np.linspace(0.1, 1.9, 50)\n",
    "\n",
    "# Shorthands for the functions\n",
    "get = lambda gamma, mu, N: get_worst_instance(gamma, N, mu, L, objective=\"e_sum\", solver=\"MOSEK\")"
   ],
   "id": "8855f4f9b35e677"
  },
  {
   "metadata": {},
   "cell_type": "code",
   "outputs": [],
   "execution_count": null,
   "source": [
    "instances1 = [[get(gamma, mu, 1) for gamma in GAMMAS] for mu in tqdm(mus)]\n",
    "instances2 = [[get(gamma, mu, 2) for gamma in GAMMAS] for mu in tqdm(mus)]\n",
    "instances3 = [[get(gamma, mu, 3) for gamma in GAMMAS] for mu in tqdm(mus)]\n",
    "instances4 = [[get(gamma, mu, 4) for gamma in GAMMAS] for mu in tqdm(mus)]\n",
    "instances_all = [instances1, instances2, instances3, instances4]\n",
    "\n",
    "# Theoretical rate\n",
    "phi = lambda gamma, mu: 1 - gamma * mu if gamma * (L + mu) <= 2 else gamma * L - 1\n",
    "variance_theory = lambda gamma, mu, N: (1 - phi(gamma, mu) ** (2 * N)) / (1 - phi(gamma, mu) ** 2) * 2 * gamma ** 2 * phi(gamma, mu) / max(2 * phi(gamma, mu) - (L - mu) * gamma, 1e-3)\n",
    "\n",
    "rel_error = lambda inst: abs(inst.param.variance.value - variance_theory(inst.gamma, inst.mu, inst.NB_ITS)) / variance_theory(inst.gamma, inst.mu, inst.NB_ITS)\n",
    "\n",
    "errors = np.array([[[rel_error(inst) for inst in insts_mu] for insts_mu in instances] for instances in instances_all])"
   ],
   "id": "a86e8945b635a1a5"
  },
  {
   "cell_type": "code",
   "execution_count": null,
   "id": "initial_id",
   "metadata": {
    "collapsed": true
   },
   "outputs": [],
   "source": [
    "def plot_heatmap(ax, N, errors):\n",
    "    extent = [GAMMAS[0], GAMMAS[-1], mus[0], mus[-1]]\n",
    "    heatmap = ax.imshow(errors, cmap='Blues', interpolation='nearest', extent=extent, aspect='auto', origin='lower')\n",
    "    ax.set_title(f\"T={N} Iteration{\"s\" if N > 1 else \"\"}\")\n",
    "    ax.set_xlabel(r\"Normalized Step-Size ($\\gamma L$)\")\n",
    "    ax.set_ylabel(r\"Strong Convexity Parameter ($\\mu$)\")\n",
    "    plt.colorbar(heatmap, ax=ax)\n",
    "    ax.plot(GAMMAS, [2 / gamma - L if mus[0] <= 2 / gamma - L <= mus[-1] else None for gamma in GAMMAS], \"r--\", label=r\"Optimal Step-Size $\\gamma=\\frac{2}{L+\\mu}$\")\n",
    "\n",
    "fig, axs = plt.subplots(2, 2, figsize=(10, 8))\n",
    "\n",
    "plot_heatmap(axs[0,0], 1, errors[0])\n",
    "plot_heatmap(axs[0,1], 2, errors[1])\n",
    "plot_heatmap(axs[1,0], 3, errors[2])\n",
    "plot_heatmap(axs[1,1], 4, errors[3])\n",
    "\n",
    "handles, labels = axs.flatten()[0].get_legend_handles_labels()\n",
    "plt.tight_layout()\n",
    "fig.legend(handles, labels, loc='lower center', ncol=2, bbox_to_anchor=(0.5, -0.05))\n",
    "\n",
    "plt.tight_layout()\n",
    "plt.show()"
   ]
  }
 ],
 "metadata": {
  "kernelspec": {
   "display_name": "Python 3",
   "language": "python",
   "name": "python3"
  },
  "language_info": {
   "codemirror_mode": {
    "name": "ipython",
    "version": 2
   },
   "file_extension": ".py",
   "mimetype": "text/x-python",
   "name": "python",
   "nbconvert_exporter": "python",
   "pygments_lexer": "ipython2",
   "version": "2.7.6"
  }
 },
 "nbformat": 4,
 "nbformat_minor": 5
}
